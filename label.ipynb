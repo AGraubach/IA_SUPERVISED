{
 "cells": [
  {
   "cell_type": "code",
   "execution_count": 1,
   "id": "3ed10b4f-ba53-4b9b-87a7-ac60ae4be45b",
   "metadata": {},
   "outputs": [],
   "source": [
    "import pandas as pd\n",
    "import numpy as np\n",
    "import matplotlib.pyplot as plt\n",
    "import seaborn as sns\n",
    "from matplotlib.cbook import boxplot_stats"
   ]
  },
  {
   "cell_type": "markdown",
   "id": "c6281578-ccd6-4e0c-9037-9d78dca2374c",
   "metadata": {
    "jp-MarkdownHeadingCollapsed": true
   },
   "source": [
    "<br>\n",
    "\n",
    "## PRE-PROCESSAMENTO\n",
    "\n",
    "<hr>"
   ]
  },
  {
   "cell_type": "code",
   "execution_count": 2,
   "id": "04be2468-5ab2-43f6-922f-584a6fca9fd4",
   "metadata": {},
   "outputs": [],
   "source": [
    "df = pd.read_csv('label_encoder_mushrooms.csv')"
   ]
  },
  {
   "cell_type": "code",
   "execution_count": 3,
   "id": "7bb64ae5-e659-4543-b1ef-4ce1f1cf4cd7",
   "metadata": {},
   "outputs": [],
   "source": [
    "df['label'] = df['label'].map({'p': False, 'e': True})"
   ]
  },
  {
   "cell_type": "code",
   "execution_count": 7,
   "id": "15f82e28-31a4-4aa8-b646-0527088b0c7b",
   "metadata": {},
   "outputs": [],
   "source": [
    "Plotagem de Pairplot para verificar se é possivel separação linear ou não - Resposta: Os dados não são linearmente separáveis\n",
    "sns.pairplot(df[['cap-shape', 'cap-surface', 'cap-color', 'bruises', 'odor',\n",
    "        'gill-size', 'gill-color',\n",
    "       'stalk-shape', 'stalk-surface-above-ring', 'stalk-surface-below-ring',\n",
    "       'stalk-color-above-ring', 'stalk-color-below-ring',\n",
    "        'ring-type', 'spore-print-color',\n",
    "       'population', 'habitat', 'label']], hue = 'label')"
   ]
  },
  {
   "cell_type": "code",
   "execution_count": null,
   "id": "553652e6-9002-489d-95f5-5cdc18135e96",
   "metadata": {},
   "outputs": [],
   "source": [
    "#Plotagem para verificar outliers nos boxplots\n",
    "plt.figure(figsize=(24,20))\n",
    "\n",
    "\n",
    "plt.subplot(4, 2, 1)\n",
    "fig = df.boxplot(column='cap-shape')\n",
    "fig.set_title('')\n",
    "fig.set_ylabel('cap-shape')\n",
    "\n",
    "plt.subplot(4, 2, 2)\n",
    "fig = df.boxplot(column='cap-surface')\n",
    "fig.set_title('')\n",
    "fig.set_ylabel('cap-surface')\n",
    "\n",
    "plt.subplot(4, 2, 3)\n",
    "fig = df.boxplot(column='cap-color')\n",
    "fig.set_title('')\n",
    "fig.set_ylabel('cap-color')\n",
    "\n",
    "plt.subplot(4, 2, 4)\n",
    "fig = df.boxplot(column='bruises')\n",
    "fig.set_title('')\n",
    "fig.set_ylabel('bruises')\n",
    "\n",
    "plt.subplot(4, 2, 5)\n",
    "fig = df.boxplot(column='odor')\n",
    "fig.set_title('')\n",
    "fig.set_ylabel('odor')\n",
    "\n",
    "plt.subplot(4, 2, 6)\n",
    "fig = df.boxplot(column='gill-attachment')\n",
    "fig.set_title('')\n",
    "fig.set_ylabel('gill-attachment')\n",
    "\n",
    "plt.subplot(4, 2, 7)\n",
    "fig = df.boxplot(column='gill-spacing')\n",
    "fig.set_title('')\n",
    "fig.set_ylabel('gill-spacing')\n",
    "\n",
    "plt.subplot(4, 2, 8)\n",
    "fig = df.boxplot(column='gill-size')\n",
    "fig.set_title('')\n",
    "fig.set_ylabel('gill-size')\n"
   ]
  },
  {
   "cell_type": "code",
   "execution_count": null,
   "id": "d3a18eb4-fa35-4998-ba5a-f393046dd28b",
   "metadata": {},
   "outputs": [],
   "source": [
    "plt.figure(figsize=(24,20))\n",
    "\n",
    "\n",
    "plt.subplot(4, 2, 1)\n",
    "fig = df.boxplot(column='gill-color')\n",
    "fig.set_title('')\n",
    "fig.set_ylabel('gill-color')\n",
    "\n",
    "plt.subplot(4, 2, 2)\n",
    "fig = df.boxplot(column='stalk-shape')\n",
    "fig.set_title('')\n",
    "fig.set_ylabel('stalk-shape')\n",
    "\n",
    "plt.subplot(4, 2, 3)\n",
    "fig = df.boxplot(column='stalk-surface-above-ring')\n",
    "fig.set_title('')\n",
    "fig.set_ylabel('stalk-surface-above-ring')\n",
    "\n",
    "plt.subplot(4, 2, 4)\n",
    "fig = df.boxplot(column='stalk-surface-below-ring')\n",
    "fig.set_title('')\n",
    "fig.set_ylabel('stalk-surface-below-ring')\n",
    "\n",
    "plt.subplot(4, 2, 5)\n",
    "fig = df.boxplot(column='stalk-color-above-ring')\n",
    "fig.set_title('')\n",
    "fig.set_ylabel('stalk-color-above-ring')\n",
    "\n",
    "plt.subplot(4, 2, 6)\n",
    "fig = df.boxplot(column='stalk-color-below-ring')\n",
    "fig.set_title('')\n",
    "fig.set_ylabel('stalk-color-below-ring')\n",
    "\n",
    "plt.subplot(4, 2, 7)\n",
    "fig = df.boxplot(column='veil-type')\n",
    "fig.set_title('')\n",
    "fig.set_ylabel('veil-type')\n",
    "\n",
    "plt.subplot(4, 2, 8)\n",
    "fig = df.boxplot(column='veil-color')\n",
    "fig.set_title('')\n",
    "fig.set_ylabel('veil-color')\n"
   ]
  },
  {
   "cell_type": "code",
   "execution_count": null,
   "id": "df291d40-910a-44c5-9f7b-e4cecfcb1511",
   "metadata": {},
   "outputs": [],
   "source": [
    "plt.figure(figsize=(24,20))\n",
    "\n",
    "\n",
    "plt.subplot(4, 2, 1)\n",
    "fig = df.boxplot(column='ring-number')\n",
    "fig.set_title('')\n",
    "fig.set_ylabel('ring-number')\n",
    "\n",
    "plt.subplot(4, 2, 2)\n",
    "fig = df.boxplot(column='ring-type')\n",
    "fig.set_title('')\n",
    "fig.set_ylabel('ring-type')\n",
    "\n",
    "plt.subplot(4, 2, 3)\n",
    "fig = df.boxplot(column='spore-print-color')\n",
    "fig.set_title('')\n",
    "fig.set_ylabel('spore-print-color')\n",
    "\n",
    "plt.subplot(4, 2, 4)\n",
    "fig = df.boxplot(column='population')\n",
    "fig.set_title('')\n",
    "fig.set_ylabel('population')\n",
    "\n",
    "plt.subplot(4, 2, 5)\n",
    "fig = df.boxplot(column='habitat')\n",
    "fig.set_title('')\n",
    "fig.set_ylabel('habitat')"
   ]
  },
  {
   "cell_type": "code",
   "execution_count": null,
   "id": "3a61a74d-6eeb-4146-8e8e-a0bfff9fea97",
   "metadata": {},
   "outputs": [],
   "source": [
    "#Plotagem de Histogramas para verificar frequencia de cada feature\n",
    "plt.figure(figsize=(24,20))\n",
    "\n",
    "\n",
    "plt.subplot(4, 2, 1)\n",
    "fig = df['cap-shape'].hist(bins=20)\n",
    "fig.set_xlabel('cap-shape')\n",
    "fig.set_ylabel('edible')\n",
    "\n",
    "\n",
    "plt.subplot(4, 2, 2)\n",
    "fig = df['cap-surface'].hist(bins=20)\n",
    "fig.set_xlabel('cap-surface')\n",
    "fig.set_ylabel('edible')\n",
    "\n",
    "\n",
    "plt.subplot(4, 2, 3)\n",
    "fig = df['cap-color'].hist(bins=20)\n",
    "fig.set_xlabel('cap-color')\n",
    "fig.set_ylabel('edible')\n",
    "\n",
    "\n",
    "\n",
    "plt.subplot(4, 2, 4)\n",
    "fig = df['bruises'].hist(bins=20)\n",
    "fig.set_xlabel('bruises')\n",
    "fig.set_ylabel('edible')\n",
    "\n",
    "\n",
    "\n",
    "plt.subplot(4, 2, 5)\n",
    "fig = df['odor'].hist(bins=20)\n",
    "fig.set_xlabel('odor')\n",
    "fig.set_ylabel('edible')\n",
    "\n",
    "\n",
    "\n",
    "plt.subplot(4, 2, 6)\n",
    "fig = df['gill-attachment'].hist(bins=20)\n",
    "fig.set_xlabel('gill-attachment')\n",
    "fig.set_ylabel('edible')\n",
    "\n",
    "\n",
    "\n",
    "plt.subplot(4, 2, 7)\n",
    "fig = df['gill-spacing'].hist(bins=20)\n",
    "fig.set_xlabel('gill-spacing')\n",
    "fig.set_ylabel('edible')\n",
    "\n",
    "\n",
    "plt.subplot(4, 2, 8)\n",
    "fig = df['gill-size'].hist(bins=20)\n",
    "fig.set_xlabel('gill-size')\n",
    "fig.set_ylabel('edible')"
   ]
  },
  {
   "cell_type": "code",
   "execution_count": null,
   "id": "fd95c896-fcbe-4ce0-9851-79eba2424ec0",
   "metadata": {},
   "outputs": [],
   "source": [
    "#Plotagem de Histogramas para verificar frequencia de cada feature\n",
    "plt.figure(figsize=(24,20))\n",
    "\n",
    "\n",
    "plt.subplot(4, 2, 1)\n",
    "fig = df['gill-color'].hist(bins=20)\n",
    "fig.set_xlabel('gill-color')\n",
    "fig.set_ylabel('edible')\n",
    "\n",
    "\n",
    "plt.subplot(4, 2, 2)\n",
    "fig = df['stalk-shape'].hist(bins=20)\n",
    "fig.set_xlabel('stalk-shape')\n",
    "fig.set_ylabel('edible')\n",
    "\n",
    "\n",
    "plt.subplot(4, 2, 3)\n",
    "fig = df['stalk-surface-above-ring'].hist(bins=20)\n",
    "fig.set_xlabel('stalk-surface-above-ring')\n",
    "fig.set_ylabel('edible')\n",
    "\n",
    "\n",
    "\n",
    "plt.subplot(4, 2, 4)\n",
    "fig = df['stalk-surface-below-ring'].hist(bins=20)\n",
    "fig.set_xlabel('stalk-surface-below-ring')\n",
    "fig.set_ylabel('edible')\n",
    "\n",
    "\n",
    "\n",
    "plt.subplot(4, 2, 5)\n",
    "fig = df['stalk-color-above-ring'].hist(bins=20)\n",
    "fig.set_xlabel('stalk-color-above-ring')\n",
    "fig.set_ylabel('edible')\n",
    "\n",
    "\n",
    "\n",
    "plt.subplot(4, 2, 6)\n",
    "fig = df['stalk-color-below-ring'].hist(bins=20)\n",
    "fig.set_xlabel('stalk-color-below-ring')\n",
    "fig.set_ylabel('edible')\n",
    "\n",
    "\n",
    "\n",
    "plt.subplot(4, 2, 7)\n",
    "fig = df['veil-type'].hist(bins=20)\n",
    "fig.set_xlabel('veil-type')\n",
    "fig.set_ylabel('edible')\n",
    "\n",
    "\n",
    "plt.subplot(4, 2, 8)\n",
    "fig = df['veil-color'].hist(bins=20)\n",
    "fig.set_xlabel('veil-color')\n",
    "fig.set_ylabel('edible')"
   ]
  },
  {
   "cell_type": "code",
   "execution_count": null,
   "id": "47050200-6182-4fcd-b23d-c8b0e73eafa0",
   "metadata": {},
   "outputs": [],
   "source": [
    "#Plotagem de Histogramas para verificar frequencia de cada feature\n",
    "plt.figure(figsize=(24,20))\n",
    "\n",
    "\n",
    "plt.subplot(4, 2, 1)\n",
    "fig = df['ring-number'].hist(bins=20)\n",
    "fig.set_xlabel('ring-number')\n",
    "fig.set_ylabel('edible')\n",
    "\n",
    "\n",
    "plt.subplot(4, 2, 2)\n",
    "fig = df['ring-type'].hist(bins=20)\n",
    "fig.set_xlabel('ring-type')\n",
    "fig.set_ylabel('edible')\n",
    "\n",
    "\n",
    "plt.subplot(4, 2, 3)\n",
    "fig = df['spore-print-color'].hist(bins=20)\n",
    "fig.set_xlabel('spore-print-color')\n",
    "fig.set_ylabel('edible')\n",
    "\n",
    "\n",
    "\n",
    "plt.subplot(4, 2, 4)\n",
    "fig = df['population'].hist(bins=20)\n",
    "fig.set_xlabel('population')\n",
    "fig.set_ylabel('edible')\n",
    "\n",
    "\n",
    "\n",
    "plt.subplot(4, 2, 5)\n",
    "fig = df['habitat'].hist(bins=20)\n",
    "fig.set_xlabel('habitat')\n",
    "fig.set_ylabel('edible')"
   ]
  },
  {
   "cell_type": "markdown",
   "id": "7585ff9a-508a-459d-813f-57bc8762e9e9",
   "metadata": {},
   "source": [
    "<br>\n",
    "\n",
    "## TREINANDO O MODELO\n",
    "\n",
    "<hr>"
   ]
  },
  {
   "cell_type": "code",
   "execution_count": 8,
   "id": "4a9c4b38-a6be-4351-a435-86bf5a7c8724",
   "metadata": {},
   "outputs": [],
   "source": [
    "#Imports\n",
    "from sklearn.model_selection import train_test_split, cross_val_score, KFold\n",
    "from sklearn import svm\n",
    "from sklearn.metrics import accuracy_score, classification_report, confusion_matrix, ConfusionMatrixDisplay\n",
    "from sklearn.preprocessing import StandardScaler\n",
    "from sklearn.dummy import DummyClassifier"
   ]
  },
  {
   "cell_type": "code",
   "execution_count": 202,
   "id": "72862d62-eab5-4fc1-ab4c-4c18467ee641",
   "metadata": {},
   "outputs": [
    {
     "data": {
      "text/plain": [
       "label\n",
       "True     4208\n",
       "False    3916\n",
       "Name: count, dtype: int64"
      ]
     },
     "execution_count": 202,
     "metadata": {},
     "output_type": "execute_result"
    }
   ],
   "source": [
    "feature_df['label'].value_counts()"
   ]
  },
  {
   "cell_type": "code",
   "execution_count": 201,
   "id": "71528bc7-c5c8-4294-97b5-fc93f69224ae",
   "metadata": {},
   "outputs": [],
   "source": [
    "feature_df = df[['cap-shape', 'cap-surface', 'cap-color', 'bruises', 'odor',\n",
    "        'gill-size', 'gill-color',\n",
    "       'stalk-shape', 'stalk-surface-above-ring', 'stalk-surface-below-ring',\n",
    "       'stalk-color-above-ring', 'stalk-color-below-ring',\n",
    "        'ring-type', 'spore-print-color',\n",
    "       'population', 'habitat', 'label']]"
   ]
  },
  {
   "cell_type": "code",
   "execution_count": 127,
   "id": "7716c2da-2945-4297-ac93-3c44fc340efe",
   "metadata": {},
   "outputs": [],
   "source": [
    "X = feature_df.drop(['label'], axis=1)\n",
    "y = feature_df['label']"
   ]
  },
  {
   "cell_type": "code",
   "execution_count": 154,
   "id": "986b73bd-434c-470b-9bcf-60a1196255a1",
   "metadata": {},
   "outputs": [],
   "source": [
    "#kfold=KFold(n_splits=10, shuffle=True, random_state=42)\n",
    "X_train, X_test, y_train, y_test = train_test_split(X, y, test_size = 0.2, random_state = 42)\n",
    "cols = X_train.columns\n",
    "scaler = StandardScaler()\n",
    "X_train = scaler.fit_transform(X_train)\n",
    "X_test = scaler.transform(X_test)\n",
    "X_train = pd.DataFrame(X_train, columns=[cols])\n",
    "X_test = pd.DataFrame(X_test, columns=[cols])\n",
    "\n",
    "classifier = svm.SVC(kernel='rbf', C=2, gamma='auto')\n",
    "classifier.fit(X_train, y_train)\n",
    "y_pred = classifier.predict(X_test)\n",
    "#classifier_2 = svm.SVC(kernel='poly', C=2, gamma='auto')\n",
    "#classifier_2.fit(X_train, y_train)\n",
    "scores = cross_val_score(classifier, X, y, scoring = \"accuracy\", cv=5)\n",
    "#print(\"%0.2f accuracy with a standard deviation of %0.2f\" % (scores.mean(), scores.std()))\n",
    "#scores"
   ]
  },
  {
   "cell_type": "code",
   "execution_count": 10,
   "id": "887bc7df-89ce-468f-9a86-1adb0057a132",
   "metadata": {},
   "outputs": [],
   "source": [
    "# Média do valor das metricas\n",
    "f1_score=cross_val_score(classifier, X, y, scoring = \"f1_macro\", cv=5)\n",
    "recall = cross_val_score(classifier, X, y, scoring = \"recall\", cv=5)\n",
    "auc_roc = cross_val_score(classifier, X, y, scoring = \"auc_roc\", cv=5)\n",
    "precision= cross_val_score(classifier, X, y, scoring = \"precision\", cv=5)"
   ]
  },
  {
   "cell_type": "markdown",
   "id": "571baea2-fb62-4017-94e9-d6593a928d99",
   "metadata": {},
   "source": [
    "<br>\n",
    "\n",
    "## Aplicando no Dumy\n",
    "\n",
    "<hr>"
   ]
  },
  {
   "cell_type": "code",
   "execution_count": 214,
   "id": "a813c82c-5d1d-4287-933c-5e0d055d5eae",
   "metadata": {},
   "outputs": [
    {
     "data": {
      "text/plain": [
       "0.5187692307692308"
      ]
     },
     "execution_count": 214,
     "metadata": {},
     "output_type": "execute_result"
    }
   ],
   "source": [
    "dummy_clf = DummyClassifier().fit(X_train, y_train)\n",
    "dummy_clf.predict(X_test)\n",
    "dummy_clf.score(X_test, y_test)"
   ]
  },
  {
   "cell_type": "code",
   "execution_count": 217,
   "id": "74d9205b-7a2a-4d99-8996-2514afd8809d",
   "metadata": {},
   "outputs": [],
   "source": [
    "#scoress=cross_val_score(dummy_clf, X, y, scoring='accuracy')\n",
    "scoress1=cross_val_score(dummy_clf, X, y, scoring='accuracy')"
   ]
  },
  {
   "cell_type": "code",
   "execution_count": 218,
   "id": "33a588e2-7189-4f8f-baae-a810fd39f7b4",
   "metadata": {},
   "outputs": [
    {
     "data": {
      "text/plain": [
       "array([0.51753846, 0.51815385, 0.51815385, 0.51815385, 0.51785714])"
      ]
     },
     "execution_count": 218,
     "metadata": {},
     "output_type": "execute_result"
    }
   ],
   "source": [
    "scoress1"
   ]
  }
 ],
 "metadata": {
  "kernelspec": {
   "display_name": "Python 3 (ipykernel)",
   "language": "python",
   "name": "python3"
  },
  "language_info": {
   "codemirror_mode": {
    "name": "ipython",
    "version": 3
   },
   "file_extension": ".py",
   "mimetype": "text/x-python",
   "name": "python",
   "nbconvert_exporter": "python",
   "pygments_lexer": "ipython3",
   "version": "3.12.4"
  }
 },
 "nbformat": 4,
 "nbformat_minor": 5
}
