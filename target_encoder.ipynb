{
 "cells": [
  {
   "cell_type": "markdown",
   "id": "dbd77e4f-7377-4713-9428-91be7c039c6d",
   "metadata": {
    "jp-MarkdownHeadingCollapsed": true
   },
   "source": [
    "<br>\n",
    "\n",
    "## APLICACAO DE ENCODER E IMPORT DE DATASET\n",
    "\n",
    "<hr>"
   ]
  },
  {
   "cell_type": "code",
   "execution_count": 104,
   "id": "1185335d-a012-4f33-9d55-4307d98f63e0",
   "metadata": {
    "tags": []
   },
   "outputs": [],
   "source": [
    "import pandas as pd\n",
    "from sklearn.preprocessing import TargetEncoder"
   ]
  },
  {
   "cell_type": "code",
   "execution_count": 105,
   "id": "60237f34-eb48-4df8-a277-04e08f6738a6",
   "metadata": {
    "tags": []
   },
   "outputs": [],
   "source": [
    "raw_df = pd.read_csv('ordinal_encoding_mushrooms.csv')"
   ]
  },
  {
   "cell_type": "code",
   "execution_count": 234,
   "id": "013e0b71-9ec8-4edb-b85a-bf5985f2537a",
   "metadata": {
    "tags": []
   },
   "outputs": [
    {
     "data": {
      "text/plain": [
       "label\n",
       "0    4208\n",
       "1    3916\n",
       "Name: count, dtype: int64"
      ]
     },
     "execution_count": 234,
     "metadata": {},
     "output_type": "execute_result"
    }
   ],
   "source": [
    "raw_df['label'].value_counts()"
   ]
  },
  {
   "cell_type": "code",
   "execution_count": 107,
   "id": "9edbfe04-b704-428a-a292-e10645cd19d5",
   "metadata": {},
   "outputs": [],
   "source": [
    "#Mudança do valor do label para binário 1 = venenoso // 0 = não venenoso ou comestivel\n",
    "raw_df['label'] = raw_df['label'].map({'p': 1, 'e': 0})"
   ]
  },
  {
   "cell_type": "code",
   "execution_count": 201,
   "id": "6e218c24-bc62-4f04-9b29-7dbf7167afd4",
   "metadata": {},
   "outputs": [],
   "source": [
    "#valor de Smooth de 10 a 3000\n",
    "dfs_aux1 = {}\n",
    "for i in range(10, 3000, 5):\n",
    "    df_aux = raw_df.copy()\n",
    "    encode = TargetEncoder(smooth = i)\n",
    "    dfs_aux1[i] = encode.fit_transform(df_aux.drop('label', axis=1), df_aux['label'])"
   ]
  },
  {
   "cell_type": "code",
   "execution_count": 109,
   "id": "bb99afce-d5f3-4997-9c67-7b88804e5ca5",
   "metadata": {},
   "outputs": [],
   "source": [
    "#valor de Smooth de 10 a 50\n",
    "dfs_aux2 = {}\n",
    "for i in range(10, 51):\n",
    "    df_aux = raw_df.copy()\n",
    "    encode = TargetEncoder(smooth = i)\n",
    "    dfs_aux2[i] = encode.fit_transform(df_aux.drop('label', axis=1), df_aux['label'])"
   ]
  },
  {
   "cell_type": "code",
   "execution_count": 110,
   "id": "db572e46-cd9a-4dee-b58d-4403a821ee3b",
   "metadata": {},
   "outputs": [],
   "source": [
    "#valor de Smooth de 50 a 100\n",
    "dfs_aux3 = {}\n",
    "for i in range(50, 101):\n",
    "    df_aux = raw_df.copy()\n",
    "    encode = TargetEncoder(smooth = i)\n",
    "    dfs_aux3[i] = encode.fit_transform(df_aux.drop('label', axis=1), df_aux['label'])"
   ]
  },
  {
   "cell_type": "code",
   "execution_count": 111,
   "id": "489fcd05-58df-4045-a40a-24c814bf70c9",
   "metadata": {},
   "outputs": [],
   "source": [
    "#valor de Smooth de 100 a 1000\n",
    "dfs_aux4 = {}\n",
    "for i in range(100, 1001):\n",
    "    df_aux = raw_df.copy()\n",
    "    encode = TargetEncoder(smooth = i)\n",
    "    dfs_aux4[i] = encode.fit_transform(df_aux.drop('label', axis=1), df_aux['label'])"
   ]
  },
  {
   "cell_type": "code",
   "execution_count": 112,
   "id": "2d8f6701-0b14-4f08-9d54-015085c89e59",
   "metadata": {},
   "outputs": [],
   "source": [
    "#valor de Smooth de 1000 a 2000\n",
    "dfs_aux5 = {}\n",
    "for i in range(1000, 2001):\n",
    "    df_aux = raw_df.copy()\n",
    "    encode = TargetEncoder(smooth = i)\n",
    "    dfs_aux5[i] = encode.fit_transform(df_aux.drop('label', axis=1), df_aux['label'])"
   ]
  },
  {
   "cell_type": "code",
   "execution_count": 113,
   "id": "601c226c-3f80-445e-ae87-097e58e84a3b",
   "metadata": {},
   "outputs": [],
   "source": [
    "#valor de Smooth de 2000 a 3000\n",
    "dfs_aux6 = {}\n",
    "for i in range(2000, 3001):\n",
    "    df_aux = raw_df.copy()\n",
    "    encode = TargetEncoder(smooth = i)\n",
    "    dfs_aux6[i] = encode.fit_transform(df_aux.drop('label', axis=1), df_aux['label'])"
   ]
  },
  {
   "cell_type": "code",
   "execution_count": 114,
   "id": "6fa4d5a1-a99a-4d7e-ab40-f41849ddad05",
   "metadata": {},
   "outputs": [],
   "source": [
    "#valor de Smooth de 3000 a 4000\n",
    "dfs_aux7 = {}\n",
    "for i in range(3000, 4001):\n",
    "    df_aux = raw_df.copy()\n",
    "    encode = TargetEncoder(smooth = i)\n",
    "    dfs_aux7[i] = encode.fit_transform(df_aux.drop('label', axis=1), df_aux['label'])"
   ]
  },
  {
   "cell_type": "code",
   "execution_count": 115,
   "id": "5ec423af-4eb9-4825-b191-65a04703b186",
   "metadata": {},
   "outputs": [],
   "source": [
    "#valor de Smooth de 4000 a 5000\n",
    "dfs_aux8 = {}\n",
    "for i in range(4000, 5001):\n",
    "    df_aux = raw_df.copy()\n",
    "    encode = TargetEncoder(smooth = i)\n",
    "    dfs_aux8[i] = encode.fit_transform(df_aux.drop('label', axis=1), df_aux['label'])"
   ]
  },
  {
   "cell_type": "markdown",
   "id": "683d1565-d71f-42a7-a393-5731e9c6077d",
   "metadata": {},
   "source": [
    "<br>\n",
    "\n",
    "## Aplicação Do Modelo\n",
    "\n",
    "<hr>"
   ]
  },
  {
   "cell_type": "code",
   "execution_count": 1,
   "id": "1baab32d-d7ce-4eb3-92fc-db7c5d1b9fc7",
   "metadata": {},
   "outputs": [],
   "source": [
    "## Imports\n",
    "from sklearn.model_selection import train_test_split, cross_val_score, KFold\n",
    "from sklearn import svm\n",
    "from sklearn.metrics import accuracy_score, classification_report, confusion_matrix, ConfusionMatrixDisplay\n",
    "from sklearn.preprocessing import StandardScaler\n",
    "import matplotlib.pyplot as plt"
   ]
  },
  {
   "cell_type": "code",
   "execution_count": 117,
   "id": "8b5ab03f-281e-4adb-a243-1208cf59cd90",
   "metadata": {},
   "outputs": [],
   "source": [
    "y = df_aux['label']\n",
    "kfold=KFold(n_splits=5, shuffle=True, random_state=0)"
   ]
  },
  {
   "cell_type": "code",
   "execution_count": 203,
   "id": "2035e0e5-1943-407b-bc89-cacb7d12a462",
   "metadata": {},
   "outputs": [],
   "source": [
    "#valor de Smooth de 0 a 3000\n",
    "scores_results = {}\n",
    "X_results = {}\n",
    "scaler = StandardScaler()\n",
    "for dfs in dfs_aux1:\n",
    "    X_results[dfs] = pd.DataFrame(dfs_aux1[dfs])\n",
    "    X_train, X_test, y_train, y_test = train_test_split(X_results[dfs], y, test_size = 0.2, random_state = 42)\n",
    "    X_train = pd.DataFrame(X_train)\n",
    "    cols = X_train.columns\n",
    "    X_train = scaler.fit_transform(X_train)\n",
    "    X_test = scaler.transform(X_test)\n",
    "    X_train = pd.DataFrame(X_train, columns=[cols])\n",
    "    X_test = pd.DataFrame(X_test, columns=[cols])\n",
    "    classifier = svm.SVC(kernel='rbf', C=2, gamma='auto').fit(X_train, y_train)\n",
    "    y_pred_test1 = classifier.predict(X_test)\n",
    "    scores_results[dfs] = cross_val_score(classifier, X_results[dfs], y, cv=kfold, scoring = 'accuracy')"
   ]
  },
  {
   "cell_type": "code",
   "execution_count": 214,
   "id": "aaa21dc3-f05e-42ca-beb7-315ca183af59",
   "metadata": {},
   "outputs": [
    {
     "data": {
      "text/plain": [
       "Text(0, 0.5, 'Accuracy')"
      ]
     },
     "execution_count": 214,
     "metadata": {},
     "output_type": "execute_result"
    },
    {
     "data": {
      "image/png": "[encoded data removed]",
      "text/plain": [
       "<Figure size 640x480 with 1 Axes>"
      ]
     },
     "metadata": {},
     "output_type": "display_data"
    }
   ],
   "source": [
    "pd.DataFrame(data=scores_results).mean().plot()\n",
    "plt.title('Aumento do Smooth')\n",
    "plt.xlabel('Smooth')\n",
    "plt.ylabel('Accuracy')\n"
   ]
  },
  {
   "cell_type": "code",
   "execution_count": 216,
   "id": "d27f197f-f3e4-4383-aca0-cec2ecc92136",
   "metadata": {},
   "outputs": [
    {
     "data": {
      "text/plain": [
       "0.9891676392572943"
      ]
     },
     "execution_count": 216,
     "metadata": {},
     "output_type": "execute_result"
    }
   ],
   "source": [
    "scores_results[1500]"
   ]
  },
  {
   "cell_type": "code",
   "execution_count": 231,
   "id": "33ce27aa-f168-4eeb-a7db-5e72d7ffd194",
   "metadata": {},
   "outputs": [],
   "source": [
    "scores= cross_val_score(classifier, X_results[1500], y, cv=kfold, scoring = 'f1_macro')\n",
    "scores.mean()"
   ]
  },
  {
   "cell_type": "markdown",
   "id": "22cb9f90-9aad-4360-8e11-cd0298238c8f",
   "metadata": {},
   "source": [
    "<br>\n",
    "\n",
    "## Modelo Dummy\n",
    "\n",
    "<hr>"
   ]
  },
  {
   "cell_type": "code",
   "execution_count": 3,
   "id": "40bde7d9-1e86-456b-9946-e43486f36de2",
   "metadata": {},
   "outputs": [],
   "source": [
    "from sklearn.dummy import DummyClassifier\n",
    "dummy_clf = DummyClassifier().fit(X_train, y_train)\n",
    "scoresss=cross_val_score(dummy_clf, X_results6[2000], y, cv=kfold, scoring='accuracy')\n",
    "scoresss"
   ]
  }
 ],
 "metadata": {
  "kernelspec": {
   "display_name": "Python 3 (ipykernel)",
   "language": "python",
   "name": "python3"
  },
  "language_info": {
   "codemirror_mode": {
    "name": "ipython",
    "version": 3
   },
   "file_extension": ".py",
   "mimetype": "text/x-python",
   "name": "python",
   "nbconvert_exporter": "python",
   "pygments_lexer": "ipython3",
   "version": "3.12.4"
  }
 },
 "nbformat": 4,
 "nbformat_minor": 5
}
